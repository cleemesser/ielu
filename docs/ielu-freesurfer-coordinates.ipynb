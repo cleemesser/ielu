{
 "cells": [
  {
   "cell_type": "markdown",
   "metadata": {},
   "source": [
    "Coordinate systems\n",
    "\n",
    "ielu saves its electrode coordinates in Surface RAS (tkrRAS) coordinate system.\n",
    "https://surfer.nmr.mgh.harvard.edu/fswiki/CoordinateSystems\n",
    "\n",
    "ielu geometry gives some ways to accesss freesurfer affine transform linked to a subject and their resampled base MRI\n",
    "\n",
    "One thing that is quite nice is that freesurfer includes freeview which can display multiple volumes and surfaces and their coordinates at the same time. You can even specify a 3D coordinate and have the cursor move there in one of these systems:\n",
    "the CT might be specified in Column, Row, Slice (CRS) form\n",
    "\n",
    "RAS stands for Right, Anterior, Superior and refers to the axes and direction of increase\n",
    "\n",
    "LPI stands for left, posterior, inferior\n"
   ]
  },
  {
   "cell_type": "code",
   "execution_count": 27,
   "metadata": {
    "collapsed": false
   },
   "outputs": [],
   "source": [
    "from __future__ import division, print_function\n",
    "import ielu.geometry\n",
    "import numpy as np\n",
    "from ielu.geometry import apply_affine\n",
    "# We will need both a \"dot\" product and matrix inverse \"inv\"\n",
    "from numpy.linalg import inv\n",
    "from numpy import dot"
   ]
  },
  {
   "cell_type": "code",
   "execution_count": 5,
   "metadata": {
    "collapsed": false
   },
   "outputs": [],
   "source": [
    "# placeholder to put images of brain and coordiante system"
   ]
  },
  {
   "cell_type": "markdown",
   "metadata": {},
   "source": [
    "Below we will define a point taken from freeview -- all listed while the mri brain volume is loaded and the registered ct from ct_nas.nii is loaded. Thus these coordinates all represent the same point just in different coordinate systems.\n",
    "I chose a point near the surface of brain/skull in the right parietal region."
   ]
  },
  {
   "cell_type": "code",
   "execution_count": 6,
   "metadata": {
    "collapsed": true
   },
   "outputs": [],
   "source": [
    "pt_ras = 64.94, 11.36, 65.2     # RAS 64.94, 11.36, 65.2\n",
    "pt_tkreg = 57.85, 27.58, -44.66 # TkReg RAS 57.85, 27.58, -44.66\n",
    "pt_rawavg = 66,176, 106 # rawavg [66,176, 106] row,col,slice? voxel\n",
    "pt_brain = 70,100, 83   # brain [70,100, 83]\n",
    "pt_ct = 66, 176, 106    # ct_nas.nii [66, 176, 106]\n",
    "pt_surf_ras = 57.85, -44.66, 27.58   # rh.pial SurfaceRAS 57.85, -44.66, 27.58"
   ]
  },
  {
   "cell_type": "code",
   "execution_count": 7,
   "metadata": {
    "collapsed": true
   },
   "outputs": [],
   "source": [
    "# In freeview, I have loaded both an MRI and a co-registered CT ct_nas.nii.gz\n",
    "ctfile = '/Users/clee/subjects/JJE2016/mri/ct_nas.nii.gz' \n",
    "\n",
    "ct_affine_vox2ras_tkr = ielu.geometry.get_vox2rasxfm(ctfile, stem='vox2ras-tkr')\n",
    "ct_affine_vox2ras = ielu.geometry.get_vox2rasxfm(ctfile, stem='vox2ras')"
   ]
  },
  {
   "cell_type": "code",
   "execution_count": 8,
   "metadata": {
    "collapsed": false
   },
   "outputs": [
    {
     "data": {
      "text/plain": [
       "array([[  -0.9375,    0.    ,    0.    ,  120.    ],\n",
       "       [   0.    ,    0.    ,    1.    ,  -78.    ],\n",
       "       [   0.    ,   -0.9375,    0.    ,  120.    ],\n",
       "       [   0.    ,    0.    ,    0.    ,    1.    ]])"
      ]
     },
     "execution_count": 8,
     "metadata": {},
     "output_type": "execute_result"
    }
   ],
   "source": [
    "ct_affine_vox2ras_tkr"
   ]
  },
  {
   "cell_type": "code",
   "execution_count": 9,
   "metadata": {
    "collapsed": false
   },
   "outputs": [
    {
     "data": {
      "text/plain": [
       "array([[  -0.9375,    0.    ,   -0.    ,  127.094 ],\n",
       "       [   0.    ,   -0.9375,   -0.    ,  176.021 ],\n",
       "       [   0.    ,    0.    ,    1.    ,  -40.376 ],\n",
       "       [   0.    ,    0.    ,    0.    ,    1.    ]])"
      ]
     },
     "execution_count": 9,
     "metadata": {},
     "output_type": "execute_result"
    }
   ],
   "source": [
    "ct_affine_vox2ras"
   ]
  },
  {
   "cell_type": "code",
   "execution_count": 10,
   "metadata": {
    "collapsed": false
   },
   "outputs": [
    {
     "data": {
      "text/plain": [
       "array([[  1.   ,   0.   ,   0.   ,   7.094],\n",
       "       [  0.   ,   0.   ,   1.   ,  56.021],\n",
       "       [  0.   ,   1.   ,   0.   ,  37.624],\n",
       "       [  0.   ,   0.   ,   0.   ,   1.   ]])"
      ]
     },
     "execution_count": 10,
     "metadata": {},
     "output_type": "execute_result"
    }
   ],
   "source": [
    "ct_ras_tkr2ras = np.dot(ct_affine_vox2ras,inv(ct_affine_vox2ras_tkr))\n",
    "ct_ras_tkr2ras"
   ]
  },
  {
   "cell_type": "code",
   "execution_count": 11,
   "metadata": {
    "collapsed": true
   },
   "outputs": [],
   "source": [
    "mri_brain = '/Users/clee/subjects/JJE2016/mri/brain.mgz'\n",
    "mri_brain_vox2ras_tkr = ielu.geometry.get_vox2rasxfm(mri_brain, stem='vox2ras-tkr')\n",
    "mri_brain_vox2ras = ielu.geometry.get_vox2rasxfm(mri_brain, stem='vox2ras')"
   ]
  },
  {
   "cell_type": "code",
   "execution_count": 12,
   "metadata": {
    "collapsed": false
   },
   "outputs": [
    {
     "data": {
      "text/plain": [
       "array([[  -1.,    0.,    0.,  128.],\n",
       "       [   0.,    0.,    1., -128.],\n",
       "       [   0.,   -1.,    0.,  128.],\n",
       "       [   0.,    0.,    0.,    1.]])"
      ]
     },
     "execution_count": 12,
     "metadata": {},
     "output_type": "execute_result"
    }
   ],
   "source": [
    "mri_brain_vox2ras_tkr"
   ]
  },
  {
   "cell_type": "code",
   "execution_count": 13,
   "metadata": {
    "collapsed": false
   },
   "outputs": [
    {
     "data": {
      "text/plain": [
       "array([[  -1.     ,    0.     ,    0.     ,  135.09399],\n",
       "       [   0.     ,    0.     ,    1.     ,  -71.97899],\n",
       "       [   0.     ,   -1.     ,    0.     ,  165.62399],\n",
       "       [   0.     ,    0.     ,    0.     ,    1.     ]])"
      ]
     },
     "execution_count": 13,
     "metadata": {},
     "output_type": "execute_result"
    }
   ],
   "source": [
    "mri_brain_vox2ras"
   ]
  },
  {
   "cell_type": "code",
   "execution_count": 14,
   "metadata": {
    "collapsed": false
   },
   "outputs": [],
   "source": [
    "def homogenize(v):\n",
    "    \"\"\"turn a 3D vector/sequence into its equivalnent homogenous coordinate vector\n",
    "    and return the result as a numpy array\"\"\"\n",
    "    return np.array((v[0], v[1],v[2], 1))\n",
    "\n",
    "# create a shortcut h for the function\n",
    "h = homogenize\n",
    "\n",
    "def undo_homogenize(v4d):\n",
    "    \"\"\"4 components to 3 components\"\"\"\n",
    "    return v4d[:3]\n",
    "ih = undo_homogenize"
   ]
  },
  {
   "cell_type": "code",
   "execution_count": 15,
   "metadata": {
    "collapsed": false
   },
   "outputs": [
    {
     "data": {
      "text/plain": [
       "array([  66.2976,  175.6384,  105.576 ,    1.    ])"
      ]
     },
     "execution_count": 15,
     "metadata": {},
     "output_type": "execute_result"
    }
   ],
   "source": [
    "# Now let's see if our points match up\n",
    "# w = A v\n",
    "w = dot(inv(ct_affine_vox2ras), homogenize(pt_ras))\n",
    "w # note this is close to pt_ct"
   ]
  },
  {
   "cell_type": "code",
   "execution_count": 16,
   "metadata": {
    "collapsed": false
   },
   "outputs": [
    {
     "data": {
      "text/plain": [
       "array([  66.,  176.,  106.,    1.])"
      ]
     },
     "execution_count": 16,
     "metadata": {},
     "output_type": "execute_result"
    }
   ],
   "source": [
    "np.round(w) # if we round to the nearest integer we get back our voxel coordinate"
   ]
  },
  {
   "cell_type": "code",
   "execution_count": 17,
   "metadata": {
    "collapsed": false,
    "scrolled": true
   },
   "outputs": [
    {
     "name": "stdout",
     "output_type": "stream",
     "text": [
      "pt_ras: (64.94, 11.36, 65.2)\n",
      "pt_surf_ras: (57.85, -44.66, 27.58)\n",
      "y: [ 57.84601 -44.66101  27.57601   1.     ]\n",
      "are they close?\n",
      " h(pt_surf_ras) -  y < 0.01 : [ True  True  True  True]\n"
     ]
    }
   ],
   "source": [
    "# try going from RAS -> surfaceRAS\n",
    "T = dot(mri_brain_vox2ras_tkr, inv(mri_brain_vox2ras))\n",
    "y = dot(T,h(pt_ras))\n",
    "print('pt_ras:', pt_ras)\n",
    "print('pt_surf_ras:', pt_surf_ras)\n",
    "print('y:', y)\n",
    "# does pt_surf_ras = y = T . pt_ras? Not exactly but they are very close\n",
    "print('are they close?\\n h(pt_surf_ras) -  y < 0.01 :', h(pt_surf_ras) -  y < 0.01)"
   ]
  },
  {
   "cell_type": "code",
   "execution_count": 40,
   "metadata": {
    "collapsed": false
   },
   "outputs": [],
   "source": [
    "from IPython.display import display, Math,Latex"
   ]
  },
  {
   "cell_type": "markdown",
   "metadata": {
    "collapsed": true
   },
   "source": [
    "\n",
    "$ {\\vec w} = {\\matrix A} {\\vec v}$"
   ]
  },
  {
   "cell_type": "markdown",
   "metadata": {
    "collapsed": true
   },
   "source": []
  },
  {
   "cell_type": "code",
   "execution_count": null,
   "metadata": {
    "collapsed": true
   },
   "outputs": [],
   "source": []
  }
 ],
 "metadata": {
  "kernelspec": {
   "display_name": "Python 2",
   "language": "python",
   "name": "python2"
  },
  "language_info": {
   "codemirror_mode": {
    "name": "ipython",
    "version": 2
   },
   "file_extension": ".py",
   "mimetype": "text/x-python",
   "name": "python",
   "nbconvert_exporter": "python",
   "pygments_lexer": "ipython2",
   "version": "2.7.11"
  }
 },
 "nbformat": 4,
 "nbformat_minor": 0
}
