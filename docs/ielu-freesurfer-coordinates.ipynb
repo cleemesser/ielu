{
 "cells": [
  {
   "cell_type": "markdown",
   "metadata": {},
   "source": [
    "Coordinate systems\n",
    "\n",
    "ielu saves its electrode coordinates in Surface RAS (tkrRAS) coordinate system.\n",
    "https://surfer.nmr.mgh.harvard.edu/fswiki/CoordinateSystems\n",
    "\n",
    "ielu geometry gives some ways to accesss freesurfer affine transform linked to a subject and their resampled base MRI\n",
    "\n",
    "One thing that is quite nice is that freesurfer includes freeview which can display multiple volumes and surfaces and their coordinates at the same time. You can even specify a 3D coordinate and have the cursor move there in one of these systems:\n",
    "the CT might be specified in Column, Row, Slice (CRS) form\n",
    "\n",
    "RAS stands for Right, Anterior, Superior and refers to the axes and direction of increase\n",
    "\n",
    "LPI stands for left, posterior, inferior\n"
   ]
  },
  {
   "cell_type": "code",
   "execution_count": 72,
   "metadata": {
    "collapsed": false
   },
   "outputs": [],
   "source": [
    "from __future__ import division, print_function\n",
    "import ielu.geometry\n",
    "import numpy as np\n",
    "from ielu.geometry import apply_affine\n",
    "from numpy.linalg import inv\n",
    "from numpy import dot\n",
    "import sympy"
   ]
  },
  {
   "cell_type": "code",
   "execution_count": 1,
   "metadata": {
    "collapsed": true
   },
   "outputs": [],
   "source": [
    "e_rpar_vox = [69.0, 178.0, 106.875] # think this is in voxel coord right parietal point on the CT\n",
    "# ?origin at LPI (left posterior inf)\n"
   ]
  },
  {
   "cell_type": "code",
   "execution_count": 3,
   "metadata": {
    "collapsed": false
   },
   "outputs": [],
   "source": [
    "# as saved in csv file by ielu\n",
    "e_rpar_tkras = [57.8501, -44.6678,27.5802]"
   ]
  },
  {
   "cell_type": "code",
   "execution_count": 7,
   "metadata": {
    "collapsed": false
   },
   "outputs": [],
   "source": [
    "# in freeview (fv) approx the same point looks like\n",
    "fv_ras = [58.5, 10.71, 66.30]\n",
    "fv_tkras = [51.40, 28.68, -45.31]\n",
    "fv_ct_nas = [73,167,107] # this is close to e_rpar_vox\n",
    "##\n",
    "fv_surfaceRAS = [55.62, -46.84, 28.11] # fv_tkras = 55.6, 28.1, -46.8 so surfaceRAS has 2nd/3rd components flipped\n"
   ]
  },
  {
   "cell_type": "markdown",
   "metadata": {},
   "source": [
    "Below we will define a point taken from freeview -- all listed while the mri brain volume is loaded and the registered ct from ct_nas.nii is loaded. Thus these coordinates all represent the same point just in different coordinate systems.\n",
    "I chose a point near the surface of brain/skull in the right parietal region."
   ]
  },
  {
   "cell_type": "code",
   "execution_count": 45,
   "metadata": {
    "collapsed": true
   },
   "outputs": [],
   "source": [
    "pt_ras = 64.94, 11.36, 65.2     # RAS 64.94, 11.36, 65.2\n",
    "pt_tkreg = 57.85, 27.58, -44.66 # TkReg RAS 57.85, 27.58, -44.66\n",
    "pt_rawavg = 66,176, 106 # rawavg [66,176, 106] row,col,slice? voxel\n",
    "pt_brain = 70,100, 83   # brain [70,100, 83]\n",
    "pt_ct = 66, 176, 106    # ct_nas.nii [66, 176, 106]\n",
    "pt_surf_ras = 57.85, -44.66, 27.58   # rh.pial SurfaceRAS 57.85, -44.66, 27.58"
   ]
  },
  {
   "cell_type": "code",
   "execution_count": 11,
   "metadata": {
    "collapsed": true
   },
   "outputs": [],
   "source": [
    "ctfile = '/Users/clee/subjects/JJE2016/mri/ct_nas.nii.gz' # I think this is the reference\n",
    "\n",
    "ct_affine_vox2ras_tkr = ielu.geometry.get_vox2rasxfm(ctfile, stem='vox2ras-tkr')\n",
    "ct_affine_vox2ras = ielu.geometry.get_vox2rasxfm(ctfile, stem='vox2ras')"
   ]
  },
  {
   "cell_type": "code",
   "execution_count": 10,
   "metadata": {
    "collapsed": false
   },
   "outputs": [
    {
     "data": {
      "text/plain": [
       "array([[  -0.9375,    0.    ,    0.    ,  120.    ],\n",
       "       [   0.    ,    0.    ,    1.    ,  -78.    ],\n",
       "       [   0.    ,   -0.9375,    0.    ,  120.    ],\n",
       "       [   0.    ,    0.    ,    0.    ,    1.    ]])"
      ]
     },
     "execution_count": 10,
     "metadata": {},
     "output_type": "execute_result"
    }
   ],
   "source": [
    "ct_affine_vox2ras_tkr"
   ]
  },
  {
   "cell_type": "code",
   "execution_count": 12,
   "metadata": {
    "collapsed": false
   },
   "outputs": [
    {
     "data": {
      "text/plain": [
       "array([[  -0.9375,    0.    ,   -0.    ,  127.094 ],\n",
       "       [   0.    ,   -0.9375,   -0.    ,  176.021 ],\n",
       "       [   0.    ,    0.    ,    1.    ,  -40.376 ],\n",
       "       [   0.    ,    0.    ,    0.    ,    1.    ]])"
      ]
     },
     "execution_count": 12,
     "metadata": {},
     "output_type": "execute_result"
    }
   ],
   "source": [
    "ct_affine_vox2ras"
   ]
  },
  {
   "cell_type": "code",
   "execution_count": 46,
   "metadata": {
    "collapsed": false
   },
   "outputs": [
    {
     "data": {
      "text/plain": [
       "array([[  1.   ,   0.   ,   0.   ,   7.094],\n",
       "       [  0.   ,   0.   ,   1.   ,  56.021],\n",
       "       [  0.   ,   1.   ,   0.   ,  37.624],\n",
       "       [  0.   ,   0.   ,   0.   ,   1.   ]])"
      ]
     },
     "execution_count": 46,
     "metadata": {},
     "output_type": "execute_result"
    }
   ],
   "source": [
    "ct_ras_tkr2ras = np.dot(ct_affine_vox2ras,inv(ct_affine_vox2ras_tkr))\n",
    "ct_ras_tkr2ras"
   ]
  },
  {
   "cell_type": "code",
   "execution_count": 28,
   "metadata": {
    "collapsed": true
   },
   "outputs": [],
   "source": [
    "mri_brain = '/Users/clee/subjects/JJE2016/mri/brain.mgz'\n",
    "mri_brain_vox2ras_tkr = ielu.geometry.get_vox2rasxfm(mri_brain, stem='vox2ras-tkr')\n",
    "mri_brain_vox2ras = ielu.geometry.get_vox2rasxfm(mri_brain, stem='vox2ras')"
   ]
  },
  {
   "cell_type": "code",
   "execution_count": 15,
   "metadata": {
    "collapsed": false
   },
   "outputs": [
    {
     "data": {
      "text/plain": [
       "array([[  -1.,    0.,    0.,  128.],\n",
       "       [   0.,    0.,    1., -128.],\n",
       "       [   0.,   -1.,    0.,  128.],\n",
       "       [   0.,    0.,    0.,    1.]])"
      ]
     },
     "execution_count": 15,
     "metadata": {},
     "output_type": "execute_result"
    }
   ],
   "source": [
    "mri_brain_vox2ras_tkr"
   ]
  },
  {
   "cell_type": "code",
   "execution_count": 33,
   "metadata": {
    "collapsed": false
   },
   "outputs": [
    {
     "data": {
      "text/plain": [
       "array([[  -1.     ,    0.     ,    0.     ,  135.09399],\n",
       "       [   0.     ,    0.     ,    1.     ,  -71.97899],\n",
       "       [   0.     ,   -1.     ,    0.     ,  165.62399],\n",
       "       [   0.     ,    0.     ,    0.     ,    1.     ]])"
      ]
     },
     "execution_count": 33,
     "metadata": {},
     "output_type": "execute_result"
    }
   ],
   "source": [
    "mri_brain_vox2ras"
   ]
  },
  {
   "cell_type": "code",
   "execution_count": 55,
   "metadata": {
    "collapsed": false
   },
   "outputs": [],
   "source": [
    "def homogenize(v):\n",
    "    \"\"\"turn a 3D vector/sequence into its equivalnent homogenous coordinate vector\n",
    "    and return the result as a numpy array\"\"\"\n",
    "    return np.array((v[0], v[1],v[2], 1))\n",
    "\n",
    "# create a shortcut h for the function\n",
    "h = homogenize"
   ]
  },
  {
   "cell_type": "code",
   "execution_count": 62,
   "metadata": {
    "collapsed": false
   },
   "outputs": [
    {
     "data": {
      "text/plain": [
       "array([  66.2976,  175.6384,  105.576 ,    1.    ])"
      ]
     },
     "execution_count": 62,
     "metadata": {},
     "output_type": "execute_result"
    }
   ],
   "source": [
    "# Now let's see if our points match up\n",
    "# w = A v\n",
    "w = dot(inv(ct_affine_vox2ras), homogenize(pt_ras))\n",
    "w # note this is close to pt_ct"
   ]
  },
  {
   "cell_type": "code",
   "execution_count": 63,
   "metadata": {
    "collapsed": false
   },
   "outputs": [
    {
     "data": {
      "text/plain": [
       "array([  66.,  176.,  106.,    1.])"
      ]
     },
     "execution_count": 63,
     "metadata": {},
     "output_type": "execute_result"
    }
   ],
   "source": [
    "np.round(w) # if we round to the nearest integer we get back our voxel coordinate"
   ]
  },
  {
   "cell_type": "code",
   "execution_count": 77,
   "metadata": {
    "collapsed": false
   },
   "outputs": [
    {
     "name": "stdout",
     "output_type": "stream",
     "text": [
      "pt_ras: (64.94, 11.36, 65.2)\n",
      "pt_surf_ras: (57.85, -44.66, 27.58)\n",
      "y: [ 57.84601 -44.66101  27.57601   1.     ]\n",
      "are they close?\n",
      " h(pt_surf_ras) -  y < 0.01 : [ True  True  True  True]\n"
     ]
    }
   ],
   "source": [
    "# try going from RAS -> surfaceRAS\n",
    "T = dot(mri_brain_vox2ras_tkr, inv(mri_brain_vox2ras))\n",
    "y = dot(T,h(pt_ras))\n",
    "print('pt_ras:', pt_ras)\n",
    "print('pt_surf_ras:', pt_surf_ras)\n",
    "print('y:', y)\n",
    "# does pt_surf_ras = y = T . pt_ras? Not exactly but they are very close\n",
    "print('are they close?\\n h(pt_surf_ras) -  y < 0.01 :', h(pt_surf_ras) -  y < 0.01)"
   ]
  },
  {
   "cell_type": "code",
   "execution_count": null,
   "metadata": {
    "collapsed": true
   },
   "outputs": [],
   "source": []
  },
  {
   "cell_type": "code",
   "execution_count": 23,
   "metadata": {
    "collapsed": false
   },
   "outputs": [
    {
     "data": {
      "text/plain": [
       "array([ 66.29322667,  98.58112   ,  33.3322    ,   1.        ])"
      ]
     },
     "execution_count": 23,
     "metadata": {},
     "output_type": "execute_result"
    }
   ],
   "source": [
    "np.dot(inv(ct_affine_vox2ras_tkr), homogenize(e_rpar_tkras))"
   ]
  },
  {
   "cell_type": "code",
   "execution_count": 24,
   "metadata": {
    "collapsed": false
   },
   "outputs": [
    {
     "data": {
      "text/plain": [
       "array([ 64.9441,  83.6012,  -7.0438,   1.    ])"
      ]
     },
     "execution_count": 24,
     "metadata": {},
     "output_type": "execute_result"
    }
   ],
   "source": [
    "np.dot(ct_affine_vox2ras, homogenize(_))"
   ]
  },
  {
   "cell_type": "code",
   "execution_count": 26,
   "metadata": {
    "collapsed": false
   },
   "outputs": [
    {
     "data": {
      "text/plain": [
       "array([ 55.3125,  28.875 , -46.875 ,   1.    ])"
      ]
     },
     "execution_count": 26,
     "metadata": {},
     "output_type": "execute_result"
    }
   ],
   "source": [
    "np.dot(ct_affine_vox2ras_tkr, homogenize(e_rpar_vox))"
   ]
  },
  {
   "cell_type": "code",
   "execution_count": 29,
   "metadata": {
    "collapsed": false
   },
   "outputs": [],
   "source": [
    "# A = composition of the transforms\n",
    "A = np.dot(mri_brain_vox2ras, inv(mri_brain_vox2ras_tkr))"
   ]
  },
  {
   "cell_type": "code",
   "execution_count": 31,
   "metadata": {
    "collapsed": false
   },
   "outputs": [
    {
     "data": {
      "text/plain": [
       "array([ 64.94409,  11.35321,  65.20419,   1.     ])"
      ]
     },
     "execution_count": 31,
     "metadata": {},
     "output_type": "execute_result"
    }
   ],
   "source": [
    "np.dot(A, homogenize(e_rpar_tkras)) # this appears work!"
   ]
  },
  {
   "cell_type": "code",
   "execution_count": 32,
   "metadata": {
    "collapsed": false
   },
   "outputs": [
    {
     "data": {
      "text/plain": [
       "array([[  1.     ,   0.     ,   0.     ,   7.09399],\n",
       "       [  0.     ,   1.     ,   0.     ,  56.02101],\n",
       "       [  0.     ,   0.     ,   1.     ,  37.62399],\n",
       "       [  0.     ,   0.     ,   0.     ,   1.     ]])"
      ]
     },
     "execution_count": 32,
     "metadata": {},
     "output_type": "execute_result"
    }
   ],
   "source": [
    "A"
   ]
  },
  {
   "cell_type": "code",
   "execution_count": 40,
   "metadata": {
    "collapsed": false
   },
   "outputs": [],
   "source": [
    "from IPython.display import display, Math,Latex"
   ]
  },
  {
   "cell_type": "code",
   "execution_count": 42,
   "metadata": {
    "collapsed": false
   },
   "outputs": [
    {
     "ename": "TypeError",
     "evalue": "Math expects text, not array([[  1.     ,   0.     ,   0.     ,   7.09399],\n       [  0.     ,   1.     ,   0.     ,  56.02101],\n       [  0.     ,   0.     ,   1.     ,  37.62399],\n       [  0.     ,   0.     ,   0.     ,   1.     ]])",
     "output_type": "error",
     "traceback": [
      "\u001b[0;31m---------------------------------------------------------------------------\u001b[0m",
      "\u001b[0;31mTypeError\u001b[0m                                 Traceback (most recent call last)",
      "\u001b[0;32m<ipython-input-42-58ee656f90b9>\u001b[0m in \u001b[0;36m<module>\u001b[0;34m()\u001b[0m\n\u001b[0;32m----> 1\u001b[0;31m \u001b[0mMath\u001b[0m\u001b[0;34m(\u001b[0m\u001b[0mA\u001b[0m\u001b[0;34m)\u001b[0m\u001b[0;34m\u001b[0m\u001b[0m\n\u001b[0m",
      "\u001b[0;32m/Users/clee/anaconda/lib/python2.7/site-packages/IPython/core/display.pyc\u001b[0m in \u001b[0;36m__init__\u001b[0;34m(self, data, url, filename)\u001b[0m\n\u001b[1;32m    385\u001b[0m \u001b[0;34m\u001b[0m\u001b[0m\n\u001b[1;32m    386\u001b[0m         \u001b[0mself\u001b[0m\u001b[0;34m.\u001b[0m\u001b[0mreload\u001b[0m\u001b[0;34m(\u001b[0m\u001b[0;34m)\u001b[0m\u001b[0;34m\u001b[0m\u001b[0m\n\u001b[0;32m--> 387\u001b[0;31m         \u001b[0mself\u001b[0m\u001b[0;34m.\u001b[0m\u001b[0m_check_data\u001b[0m\u001b[0;34m(\u001b[0m\u001b[0;34m)\u001b[0m\u001b[0;34m\u001b[0m\u001b[0m\n\u001b[0m\u001b[1;32m    388\u001b[0m \u001b[0;34m\u001b[0m\u001b[0m\n\u001b[1;32m    389\u001b[0m     \u001b[0;32mdef\u001b[0m \u001b[0m__repr__\u001b[0m\u001b[0;34m(\u001b[0m\u001b[0mself\u001b[0m\u001b[0;34m)\u001b[0m\u001b[0;34m:\u001b[0m\u001b[0;34m\u001b[0m\u001b[0m\n",
      "\u001b[0;32m/Users/clee/anaconda/lib/python2.7/site-packages/IPython/core/display.pyc\u001b[0m in \u001b[0;36m_check_data\u001b[0;34m(self)\u001b[0m\n\u001b[1;32m    429\u001b[0m     \u001b[0;32mdef\u001b[0m \u001b[0m_check_data\u001b[0m\u001b[0;34m(\u001b[0m\u001b[0mself\u001b[0m\u001b[0;34m)\u001b[0m\u001b[0;34m:\u001b[0m\u001b[0;34m\u001b[0m\u001b[0m\n\u001b[1;32m    430\u001b[0m         \u001b[0;32mif\u001b[0m \u001b[0mself\u001b[0m\u001b[0;34m.\u001b[0m\u001b[0mdata\u001b[0m \u001b[0;32mis\u001b[0m \u001b[0;32mnot\u001b[0m \u001b[0mNone\u001b[0m \u001b[0;32mand\u001b[0m \u001b[0;32mnot\u001b[0m \u001b[0misinstance\u001b[0m\u001b[0;34m(\u001b[0m\u001b[0mself\u001b[0m\u001b[0;34m.\u001b[0m\u001b[0mdata\u001b[0m\u001b[0;34m,\u001b[0m \u001b[0mstring_types\u001b[0m\u001b[0;34m)\u001b[0m\u001b[0;34m:\u001b[0m\u001b[0;34m\u001b[0m\u001b[0m\n\u001b[0;32m--> 431\u001b[0;31m             \u001b[0;32mraise\u001b[0m \u001b[0mTypeError\u001b[0m\u001b[0;34m(\u001b[0m\u001b[0;34m\"%s expects text, not %r\"\u001b[0m \u001b[0;34m%\u001b[0m \u001b[0;34m(\u001b[0m\u001b[0mself\u001b[0m\u001b[0;34m.\u001b[0m\u001b[0m__class__\u001b[0m\u001b[0;34m.\u001b[0m\u001b[0m__name__\u001b[0m\u001b[0;34m,\u001b[0m \u001b[0mself\u001b[0m\u001b[0;34m.\u001b[0m\u001b[0mdata\u001b[0m\u001b[0;34m)\u001b[0m\u001b[0;34m)\u001b[0m\u001b[0;34m\u001b[0m\u001b[0m\n\u001b[0m\u001b[1;32m    432\u001b[0m \u001b[0;34m\u001b[0m\u001b[0m\n\u001b[1;32m    433\u001b[0m \u001b[0;32mclass\u001b[0m \u001b[0mPretty\u001b[0m\u001b[0;34m(\u001b[0m\u001b[0mTextDisplayObject\u001b[0m\u001b[0;34m)\u001b[0m\u001b[0;34m:\u001b[0m\u001b[0;34m\u001b[0m\u001b[0m\n",
      "\u001b[0;31mTypeError\u001b[0m: Math expects text, not array([[  1.     ,   0.     ,   0.     ,   7.09399],\n       [  0.     ,   1.     ,   0.     ,  56.02101],\n       [  0.     ,   0.     ,   1.     ,  37.62399],\n       [  0.     ,   0.     ,   0.     ,   1.     ]])"
     ]
    }
   ],
   "source": [
    "Math(A)"
   ]
  },
  {
   "cell_type": "code",
   "execution_count": null,
   "metadata": {
    "collapsed": true
   },
   "outputs": [],
   "source": []
  }
 ],
 "metadata": {
  "kernelspec": {
   "display_name": "Python 2",
   "language": "python",
   "name": "python2"
  },
  "language_info": {
   "codemirror_mode": {
    "name": "ipython",
    "version": 2
   },
   "file_extension": ".py",
   "mimetype": "text/x-python",
   "name": "python",
   "nbconvert_exporter": "python",
   "pygments_lexer": "ipython2",
   "version": "2.7.11"
  }
 },
 "nbformat": 4,
 "nbformat_minor": 0
}
